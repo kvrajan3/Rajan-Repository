{
 "cells": [
  {
   "cell_type": "markdown",
   "metadata": {
    "id": "POLy2LFowNKJ"
   },
   "source": [
    "# Lets Play Cricket - IPL Exploration Analysis"
   ]
  },
  {
   "cell_type": "markdown",
   "metadata": {
    "id": "Am_ffSCAwNKK"
   },
   "source": [
    "An data analysis exploration for Cricket fans!\n",
    "\n",
    "# 1. Data Understanding"
   ]
  },
  {
   "cell_type": "markdown",
   "metadata": {
    "id": "cSH1ki0LwNKK"
   },
   "source": [
    "![](https://matchday.in/wp-content/uploads/2020/09/Dream-11-IPL-2020-schedule-announced.jpg)"
   ]
  },
  {
   "cell_type": "code",
   "execution_count": 2,
   "metadata": {
    "_cell_guid": "b1076dfc-b9ad-4769-8c92-a6c4dae69d19",
    "_uuid": "8f2839f25d086af736a60e9eeb907d3b93b6e0e5",
    "executionInfo": {
     "elapsed": 2452,
     "status": "ok",
     "timestamp": 1603762645500,
     "user": {
      "displayName": "Rajeev Ratan",
      "photoUrl": "https://lh3.googleusercontent.com/a-/AOh14GhBYJnwdIGYSJdvGmzIt64rYSF1dDuiFyfRw4Rpeg=s64",
      "userId": "08597265227091462140"
     },
     "user_tz": 240
    },
    "id": "eX5sLPDUwNKL"
   },
   "outputs": [],
   "source": [
    "# Our imports\n",
    "import numpy as np \n",
    "import pandas as pd \n",
    "import seaborn as sns\n",
    "import matplotlib.pyplot as plt\n",
    "import plotly.express as px\n",
    "import plotly.graph_objects as go"
   ]
  },
  {
   "cell_type": "code",
   "execution_count": 3,
   "metadata": {
    "_cell_guid": "79c7e3d0-c299-4dcb-8224-4455121ee9b0",
    "_uuid": "d629ff2d2480ee46fbb7e2d37f6b5fab8052498a",
    "executionInfo": {
     "elapsed": 4044,
     "status": "ok",
     "timestamp": 1603762653467,
     "user": {
      "displayName": "Rajeev Ratan",
      "photoUrl": "https://lh3.googleusercontent.com/a-/AOh14GhBYJnwdIGYSJdvGmzIt64rYSF1dDuiFyfRw4Rpeg=s64",
      "userId": "08597265227091462140"
     },
     "user_tz": 240
    },
    "id": "oZGAENcjwNKN"
   },
   "outputs": [],
   "source": [
    "# ball by ball data\n",
    "delivery_data = pd.read_csv('D:\\\\Data Science\\\\IPL Ball-by-Ball 2008-2020.csv') \n",
    "\n",
    "# IPL Match Data from 2008 and 2020.\n",
    "match_data = pd.read_csv('D:\\\\Data Science\\\\IPL Matches 2008-2020.csv')"
   ]
  },
  {
   "cell_type": "code",
   "execution_count": 4,
   "metadata": {
    "colab": {
     "base_uri": "https://localhost:8080/",
     "height": 383
    },
    "executionInfo": {
     "elapsed": 1061,
     "status": "ok",
     "timestamp": 1603762653467,
     "user": {
      "displayName": "Rajeev Ratan",
      "photoUrl": "https://lh3.googleusercontent.com/a-/AOh14GhBYJnwdIGYSJdvGmzIt64rYSF1dDuiFyfRw4Rpeg=s64",
      "userId": "08597265227091462140"
     },
     "user_tz": 240
    },
    "id": "6Bw9CdWpxeUD",
    "outputId": "47c9acba-798f-48fc-8271-ac1b210375b2"
   },
   "outputs": [
    {
     "data": {
      "text/html": [
       "<div>\n",
       "<style scoped>\n",
       "    .dataframe tbody tr th:only-of-type {\n",
       "        vertical-align: middle;\n",
       "    }\n",
       "\n",
       "    .dataframe tbody tr th {\n",
       "        vertical-align: top;\n",
       "    }\n",
       "\n",
       "    .dataframe thead th {\n",
       "        text-align: right;\n",
       "    }\n",
       "</style>\n",
       "<table border=\"1\" class=\"dataframe\">\n",
       "  <thead>\n",
       "    <tr style=\"text-align: right;\">\n",
       "      <th></th>\n",
       "      <th>id</th>\n",
       "      <th>inning</th>\n",
       "      <th>over</th>\n",
       "      <th>ball</th>\n",
       "      <th>batsman</th>\n",
       "      <th>non_striker</th>\n",
       "      <th>bowler</th>\n",
       "      <th>batsman_runs</th>\n",
       "      <th>extra_runs</th>\n",
       "      <th>total_runs</th>\n",
       "      <th>non_boundary</th>\n",
       "      <th>is_wicket</th>\n",
       "      <th>dismissal_kind</th>\n",
       "      <th>player_dismissed</th>\n",
       "      <th>fielder</th>\n",
       "      <th>extras_type</th>\n",
       "      <th>batting_team</th>\n",
       "      <th>bowling_team</th>\n",
       "    </tr>\n",
       "  </thead>\n",
       "  <tbody>\n",
       "    <tr>\n",
       "      <th>0</th>\n",
       "      <td>335982</td>\n",
       "      <td>1</td>\n",
       "      <td>6</td>\n",
       "      <td>5</td>\n",
       "      <td>RT Ponting</td>\n",
       "      <td>BB McCullum</td>\n",
       "      <td>AA Noffke</td>\n",
       "      <td>1</td>\n",
       "      <td>0</td>\n",
       "      <td>1</td>\n",
       "      <td>0</td>\n",
       "      <td>0</td>\n",
       "      <td>NaN</td>\n",
       "      <td>NaN</td>\n",
       "      <td>NaN</td>\n",
       "      <td>NaN</td>\n",
       "      <td>Kolkata Knight Riders</td>\n",
       "      <td>Royal Challengers Bangalore</td>\n",
       "    </tr>\n",
       "    <tr>\n",
       "      <th>1</th>\n",
       "      <td>335982</td>\n",
       "      <td>1</td>\n",
       "      <td>6</td>\n",
       "      <td>6</td>\n",
       "      <td>BB McCullum</td>\n",
       "      <td>RT Ponting</td>\n",
       "      <td>AA Noffke</td>\n",
       "      <td>1</td>\n",
       "      <td>0</td>\n",
       "      <td>1</td>\n",
       "      <td>0</td>\n",
       "      <td>0</td>\n",
       "      <td>NaN</td>\n",
       "      <td>NaN</td>\n",
       "      <td>NaN</td>\n",
       "      <td>NaN</td>\n",
       "      <td>Kolkata Knight Riders</td>\n",
       "      <td>Royal Challengers Bangalore</td>\n",
       "    </tr>\n",
       "    <tr>\n",
       "      <th>2</th>\n",
       "      <td>335982</td>\n",
       "      <td>1</td>\n",
       "      <td>7</td>\n",
       "      <td>1</td>\n",
       "      <td>BB McCullum</td>\n",
       "      <td>RT Ponting</td>\n",
       "      <td>Z Khan</td>\n",
       "      <td>0</td>\n",
       "      <td>0</td>\n",
       "      <td>0</td>\n",
       "      <td>0</td>\n",
       "      <td>0</td>\n",
       "      <td>NaN</td>\n",
       "      <td>NaN</td>\n",
       "      <td>NaN</td>\n",
       "      <td>NaN</td>\n",
       "      <td>Kolkata Knight Riders</td>\n",
       "      <td>Royal Challengers Bangalore</td>\n",
       "    </tr>\n",
       "    <tr>\n",
       "      <th>3</th>\n",
       "      <td>335982</td>\n",
       "      <td>1</td>\n",
       "      <td>7</td>\n",
       "      <td>2</td>\n",
       "      <td>BB McCullum</td>\n",
       "      <td>RT Ponting</td>\n",
       "      <td>Z Khan</td>\n",
       "      <td>1</td>\n",
       "      <td>0</td>\n",
       "      <td>1</td>\n",
       "      <td>0</td>\n",
       "      <td>0</td>\n",
       "      <td>NaN</td>\n",
       "      <td>NaN</td>\n",
       "      <td>NaN</td>\n",
       "      <td>NaN</td>\n",
       "      <td>Kolkata Knight Riders</td>\n",
       "      <td>Royal Challengers Bangalore</td>\n",
       "    </tr>\n",
       "    <tr>\n",
       "      <th>4</th>\n",
       "      <td>335982</td>\n",
       "      <td>1</td>\n",
       "      <td>7</td>\n",
       "      <td>3</td>\n",
       "      <td>RT Ponting</td>\n",
       "      <td>BB McCullum</td>\n",
       "      <td>Z Khan</td>\n",
       "      <td>1</td>\n",
       "      <td>0</td>\n",
       "      <td>1</td>\n",
       "      <td>0</td>\n",
       "      <td>0</td>\n",
       "      <td>NaN</td>\n",
       "      <td>NaN</td>\n",
       "      <td>NaN</td>\n",
       "      <td>NaN</td>\n",
       "      <td>Kolkata Knight Riders</td>\n",
       "      <td>Royal Challengers Bangalore</td>\n",
       "    </tr>\n",
       "  </tbody>\n",
       "</table>\n",
       "</div>"
      ],
      "text/plain": [
       "       id  inning  over  ball      batsman  non_striker     bowler  \\\n",
       "0  335982       1     6     5   RT Ponting  BB McCullum  AA Noffke   \n",
       "1  335982       1     6     6  BB McCullum   RT Ponting  AA Noffke   \n",
       "2  335982       1     7     1  BB McCullum   RT Ponting     Z Khan   \n",
       "3  335982       1     7     2  BB McCullum   RT Ponting     Z Khan   \n",
       "4  335982       1     7     3   RT Ponting  BB McCullum     Z Khan   \n",
       "\n",
       "   batsman_runs  extra_runs  total_runs  non_boundary  is_wicket  \\\n",
       "0             1           0           1             0          0   \n",
       "1             1           0           1             0          0   \n",
       "2             0           0           0             0          0   \n",
       "3             1           0           1             0          0   \n",
       "4             1           0           1             0          0   \n",
       "\n",
       "  dismissal_kind player_dismissed fielder extras_type           batting_team  \\\n",
       "0            NaN              NaN     NaN         NaN  Kolkata Knight Riders   \n",
       "1            NaN              NaN     NaN         NaN  Kolkata Knight Riders   \n",
       "2            NaN              NaN     NaN         NaN  Kolkata Knight Riders   \n",
       "3            NaN              NaN     NaN         NaN  Kolkata Knight Riders   \n",
       "4            NaN              NaN     NaN         NaN  Kolkata Knight Riders   \n",
       "\n",
       "                  bowling_team  \n",
       "0  Royal Challengers Bangalore  \n",
       "1  Royal Challengers Bangalore  \n",
       "2  Royal Challengers Bangalore  \n",
       "3  Royal Challengers Bangalore  \n",
       "4  Royal Challengers Bangalore  "
      ]
     },
     "execution_count": 4,
     "metadata": {},
     "output_type": "execute_result"
    }
   ],
   "source": [
    "delivery_data.head()"
   ]
  },
  {
   "cell_type": "code",
   "execution_count": 5,
   "metadata": {
    "colab": {
     "base_uri": "https://localhost:8080/",
     "height": 400
    },
    "executionInfo": {
     "elapsed": 876,
     "status": "ok",
     "timestamp": 1603762693132,
     "user": {
      "displayName": "Rajeev Ratan",
      "photoUrl": "https://lh3.googleusercontent.com/a-/AOh14GhBYJnwdIGYSJdvGmzIt64rYSF1dDuiFyfRw4Rpeg=s64",
      "userId": "08597265227091462140"
     },
     "user_tz": 240
    },
    "id": "J3kkmPc8wNKQ",
    "outputId": "1a47ce96-6c40-4639-e8fa-0d5587861a91"
   },
   "outputs": [
    {
     "data": {
      "text/html": [
       "<div>\n",
       "<style scoped>\n",
       "    .dataframe tbody tr th:only-of-type {\n",
       "        vertical-align: middle;\n",
       "    }\n",
       "\n",
       "    .dataframe tbody tr th {\n",
       "        vertical-align: top;\n",
       "    }\n",
       "\n",
       "    .dataframe thead th {\n",
       "        text-align: right;\n",
       "    }\n",
       "</style>\n",
       "<table border=\"1\" class=\"dataframe\">\n",
       "  <thead>\n",
       "    <tr style=\"text-align: right;\">\n",
       "      <th></th>\n",
       "      <th>id</th>\n",
       "      <th>city</th>\n",
       "      <th>date</th>\n",
       "      <th>season</th>\n",
       "      <th>player_of_match</th>\n",
       "      <th>venue</th>\n",
       "      <th>neutral_venue</th>\n",
       "      <th>team1</th>\n",
       "      <th>team2</th>\n",
       "      <th>toss_winner</th>\n",
       "      <th>toss_decision</th>\n",
       "      <th>winner</th>\n",
       "      <th>result</th>\n",
       "      <th>result_margin</th>\n",
       "      <th>eliminator</th>\n",
       "      <th>method</th>\n",
       "      <th>umpire1</th>\n",
       "      <th>umpire2</th>\n",
       "    </tr>\n",
       "  </thead>\n",
       "  <tbody>\n",
       "    <tr>\n",
       "      <th>0</th>\n",
       "      <td>335982</td>\n",
       "      <td>Bangalore</td>\n",
       "      <td>4/18/2008</td>\n",
       "      <td>2008</td>\n",
       "      <td>BB McCullum</td>\n",
       "      <td>M Chinnaswamy Stadium</td>\n",
       "      <td>0</td>\n",
       "      <td>Royal Challengers Bangalore</td>\n",
       "      <td>Kolkata Knight Riders</td>\n",
       "      <td>Royal Challengers Bangalore</td>\n",
       "      <td>field</td>\n",
       "      <td>Kolkata Knight Riders</td>\n",
       "      <td>runs</td>\n",
       "      <td>140.0</td>\n",
       "      <td>N</td>\n",
       "      <td>NaN</td>\n",
       "      <td>Asad Rauf</td>\n",
       "      <td>RE Koertzen</td>\n",
       "    </tr>\n",
       "    <tr>\n",
       "      <th>1</th>\n",
       "      <td>335983</td>\n",
       "      <td>Chandigarh</td>\n",
       "      <td>4/19/2008</td>\n",
       "      <td>2008</td>\n",
       "      <td>MEK Hussey</td>\n",
       "      <td>Punjab Cricket Association Stadium, Mohali</td>\n",
       "      <td>0</td>\n",
       "      <td>Kings XI Punjab</td>\n",
       "      <td>Chennai Super Kings</td>\n",
       "      <td>Chennai Super Kings</td>\n",
       "      <td>bat</td>\n",
       "      <td>Chennai Super Kings</td>\n",
       "      <td>runs</td>\n",
       "      <td>33.0</td>\n",
       "      <td>N</td>\n",
       "      <td>NaN</td>\n",
       "      <td>MR Benson</td>\n",
       "      <td>SL Shastri</td>\n",
       "    </tr>\n",
       "    <tr>\n",
       "      <th>2</th>\n",
       "      <td>335984</td>\n",
       "      <td>Delhi</td>\n",
       "      <td>4/19/2008</td>\n",
       "      <td>2008</td>\n",
       "      <td>MF Maharoof</td>\n",
       "      <td>Feroz Shah Kotla</td>\n",
       "      <td>0</td>\n",
       "      <td>Delhi Daredevils</td>\n",
       "      <td>Rajasthan Royals</td>\n",
       "      <td>Rajasthan Royals</td>\n",
       "      <td>bat</td>\n",
       "      <td>Delhi Daredevils</td>\n",
       "      <td>wickets</td>\n",
       "      <td>9.0</td>\n",
       "      <td>N</td>\n",
       "      <td>NaN</td>\n",
       "      <td>Aleem Dar</td>\n",
       "      <td>GA Pratapkumar</td>\n",
       "    </tr>\n",
       "    <tr>\n",
       "      <th>3</th>\n",
       "      <td>335985</td>\n",
       "      <td>Mumbai</td>\n",
       "      <td>4/20/2008</td>\n",
       "      <td>2008</td>\n",
       "      <td>MV Boucher</td>\n",
       "      <td>Wankhede Stadium</td>\n",
       "      <td>0</td>\n",
       "      <td>Mumbai Indians</td>\n",
       "      <td>Royal Challengers Bangalore</td>\n",
       "      <td>Mumbai Indians</td>\n",
       "      <td>bat</td>\n",
       "      <td>Royal Challengers Bangalore</td>\n",
       "      <td>wickets</td>\n",
       "      <td>5.0</td>\n",
       "      <td>N</td>\n",
       "      <td>NaN</td>\n",
       "      <td>SJ Davis</td>\n",
       "      <td>DJ Harper</td>\n",
       "    </tr>\n",
       "    <tr>\n",
       "      <th>4</th>\n",
       "      <td>335986</td>\n",
       "      <td>Kolkata</td>\n",
       "      <td>4/20/2008</td>\n",
       "      <td>2008</td>\n",
       "      <td>DJ Hussey</td>\n",
       "      <td>Eden Gardens</td>\n",
       "      <td>0</td>\n",
       "      <td>Kolkata Knight Riders</td>\n",
       "      <td>Deccan Chargers</td>\n",
       "      <td>Deccan Chargers</td>\n",
       "      <td>bat</td>\n",
       "      <td>Kolkata Knight Riders</td>\n",
       "      <td>wickets</td>\n",
       "      <td>5.0</td>\n",
       "      <td>N</td>\n",
       "      <td>NaN</td>\n",
       "      <td>BF Bowden</td>\n",
       "      <td>K Hariharan</td>\n",
       "    </tr>\n",
       "  </tbody>\n",
       "</table>\n",
       "</div>"
      ],
      "text/plain": [
       "       id        city       date  season player_of_match  \\\n",
       "0  335982   Bangalore  4/18/2008    2008     BB McCullum   \n",
       "1  335983  Chandigarh  4/19/2008    2008      MEK Hussey   \n",
       "2  335984       Delhi  4/19/2008    2008     MF Maharoof   \n",
       "3  335985      Mumbai  4/20/2008    2008      MV Boucher   \n",
       "4  335986     Kolkata  4/20/2008    2008       DJ Hussey   \n",
       "\n",
       "                                        venue  neutral_venue  \\\n",
       "0                       M Chinnaswamy Stadium              0   \n",
       "1  Punjab Cricket Association Stadium, Mohali              0   \n",
       "2                            Feroz Shah Kotla              0   \n",
       "3                            Wankhede Stadium              0   \n",
       "4                                Eden Gardens              0   \n",
       "\n",
       "                         team1                        team2  \\\n",
       "0  Royal Challengers Bangalore        Kolkata Knight Riders   \n",
       "1              Kings XI Punjab          Chennai Super Kings   \n",
       "2             Delhi Daredevils             Rajasthan Royals   \n",
       "3               Mumbai Indians  Royal Challengers Bangalore   \n",
       "4        Kolkata Knight Riders              Deccan Chargers   \n",
       "\n",
       "                   toss_winner toss_decision                       winner  \\\n",
       "0  Royal Challengers Bangalore         field        Kolkata Knight Riders   \n",
       "1          Chennai Super Kings           bat          Chennai Super Kings   \n",
       "2             Rajasthan Royals           bat             Delhi Daredevils   \n",
       "3               Mumbai Indians           bat  Royal Challengers Bangalore   \n",
       "4              Deccan Chargers           bat        Kolkata Knight Riders   \n",
       "\n",
       "    result  result_margin eliminator method    umpire1         umpire2  \n",
       "0     runs          140.0          N    NaN  Asad Rauf     RE Koertzen  \n",
       "1     runs           33.0          N    NaN  MR Benson      SL Shastri  \n",
       "2  wickets            9.0          N    NaN  Aleem Dar  GA Pratapkumar  \n",
       "3  wickets            5.0          N    NaN   SJ Davis       DJ Harper  \n",
       "4  wickets            5.0          N    NaN  BF Bowden     K Hariharan  "
      ]
     },
     "execution_count": 5,
     "metadata": {},
     "output_type": "execute_result"
    }
   ],
   "source": [
    "match_data.head()"
   ]
  },
  {
   "cell_type": "markdown",
   "metadata": {
    "id": "yeLex81FwNKW"
   },
   "source": [
    "### Let's show some Stats"
   ]
  },
  {
   "cell_type": "code",
   "execution_count": 6,
   "metadata": {
    "colab": {
     "base_uri": "https://localhost:8080/",
     "height": 34
    },
    "executionInfo": {
     "elapsed": 705,
     "status": "ok",
     "timestamp": 1603762755367,
     "user": {
      "displayName": "Rajeev Ratan",
      "photoUrl": "https://lh3.googleusercontent.com/a-/AOh14GhBYJnwdIGYSJdvGmzIt64rYSF1dDuiFyfRw4Rpeg=s64",
      "userId": "08597265227091462140"
     },
     "user_tz": 240
    },
    "id": "_-odbTJsyJGD",
    "outputId": "9fdc1095-f525-4e3f-d086-d0a0081b5c2e"
   },
   "outputs": [
    {
     "name": "stdout",
     "output_type": "stream",
     "text": [
      "Biggest Win Margin was 146.0 runs.\n"
     ]
    }
   ],
   "source": [
    "biggest_win = match_data['result_margin'].max()\n",
    "print(\"Biggest Win Margin was \" + str(biggest_win) + \" runs.\")\n",
    "\n",
    "teams_biggest_win = []"
   ]
  },
  {
   "cell_type": "code",
   "execution_count": 7,
   "metadata": {
    "colab": {
     "base_uri": "https://localhost:8080/",
     "height": 130
    },
    "executionInfo": {
     "elapsed": 684,
     "status": "ok",
     "timestamp": 1603762776774,
     "user": {
      "displayName": "Rajeev Ratan",
      "photoUrl": "https://lh3.googleusercontent.com/a-/AOh14GhBYJnwdIGYSJdvGmzIt64rYSF1dDuiFyfRw4Rpeg=s64",
      "userId": "08597265227091462140"
     },
     "user_tz": 240
    },
    "id": "desxQL47yJan",
    "outputId": "bffac290-7f5b-4eb1-c241-c5faabd36710"
   },
   "outputs": [
    {
     "data": {
      "text/html": [
       "<div>\n",
       "<style scoped>\n",
       "    .dataframe tbody tr th:only-of-type {\n",
       "        vertical-align: middle;\n",
       "    }\n",
       "\n",
       "    .dataframe tbody tr th {\n",
       "        vertical-align: top;\n",
       "    }\n",
       "\n",
       "    .dataframe thead th {\n",
       "        text-align: right;\n",
       "    }\n",
       "</style>\n",
       "<table border=\"1\" class=\"dataframe\">\n",
       "  <thead>\n",
       "    <tr style=\"text-align: right;\">\n",
       "      <th></th>\n",
       "      <th>id</th>\n",
       "      <th>city</th>\n",
       "      <th>date</th>\n",
       "      <th>season</th>\n",
       "      <th>player_of_match</th>\n",
       "      <th>venue</th>\n",
       "      <th>neutral_venue</th>\n",
       "      <th>team1</th>\n",
       "      <th>team2</th>\n",
       "      <th>toss_winner</th>\n",
       "      <th>toss_decision</th>\n",
       "      <th>winner</th>\n",
       "      <th>result</th>\n",
       "      <th>result_margin</th>\n",
       "      <th>eliminator</th>\n",
       "      <th>method</th>\n",
       "      <th>umpire1</th>\n",
       "      <th>umpire2</th>\n",
       "    </tr>\n",
       "  </thead>\n",
       "  <tbody>\n",
       "    <tr>\n",
       "      <th>620</th>\n",
       "      <td>1082635</td>\n",
       "      <td>Delhi</td>\n",
       "      <td>5/6/2017</td>\n",
       "      <td>2017</td>\n",
       "      <td>LMP Simmons</td>\n",
       "      <td>Feroz Shah Kotla</td>\n",
       "      <td>0</td>\n",
       "      <td>Delhi Daredevils</td>\n",
       "      <td>Mumbai Indians</td>\n",
       "      <td>Delhi Daredevils</td>\n",
       "      <td>field</td>\n",
       "      <td>Mumbai Indians</td>\n",
       "      <td>runs</td>\n",
       "      <td>146.0</td>\n",
       "      <td>N</td>\n",
       "      <td>NaN</td>\n",
       "      <td>Nitin Menon</td>\n",
       "      <td>CK Nandan</td>\n",
       "    </tr>\n",
       "  </tbody>\n",
       "</table>\n",
       "</div>"
      ],
      "text/plain": [
       "          id   city      date  season player_of_match             venue  \\\n",
       "620  1082635  Delhi  5/6/2017    2017     LMP Simmons  Feroz Shah Kotla   \n",
       "\n",
       "     neutral_venue             team1           team2       toss_winner  \\\n",
       "620              0  Delhi Daredevils  Mumbai Indians  Delhi Daredevils   \n",
       "\n",
       "    toss_decision          winner result  result_margin eliminator method  \\\n",
       "620         field  Mumbai Indians   runs          146.0          N    NaN   \n",
       "\n",
       "         umpire1    umpire2  \n",
       "620  Nitin Menon  CK Nandan  "
      ]
     },
     "execution_count": 7,
     "metadata": {},
     "output_type": "execute_result"
    }
   ],
   "source": [
    "# Which game was this biggest win?\n",
    "f = match_data.loc[match_data['result_margin'] == biggest_win]\n",
    "f"
   ]
  },
  {
   "cell_type": "code",
   "execution_count": 8,
   "metadata": {
    "colab": {
     "base_uri": "https://localhost:8080/",
     "height": 101
    },
    "executionInfo": {
     "elapsed": 713,
     "status": "ok",
     "timestamp": 1603762812547,
     "user": {
      "displayName": "Rajeev Ratan",
      "photoUrl": "https://lh3.googleusercontent.com/a-/AOh14GhBYJnwdIGYSJdvGmzIt64rYSF1dDuiFyfRw4Rpeg=s64",
      "userId": "08597265227091462140"
     },
     "user_tz": 240
    },
    "id": "OWzdOH6yyJda",
    "outputId": "34c49037-9c98-4456-9151-99f8a18055e0"
   },
   "outputs": [
    {
     "data": {
      "text/plain": [
       "['2017',\n",
       " 'Feroz Shah Kotla',\n",
       " 'Delhi Daredevils',\n",
       " 'Mumbai Indians',\n",
       " 'Mumbai Indians']"
      ]
     },
     "execution_count": 8,
     "metadata": {},
     "output_type": "execute_result"
    }
   ],
   "source": [
    "teams_biggest_win.append((str(f['season'].tolist()[0])))\n",
    "teams_biggest_win.append((str(f['venue'].tolist()[0])))\n",
    "teams_biggest_win.append(str(f['team1'].tolist()[0]))\n",
    "teams_biggest_win.append(str(f['team2'].tolist()[0]))\n",
    "teams_biggest_win.append(str(f['winner'].tolist()[0]))\n",
    "teams_biggest_win"
   ]
  },
  {
   "cell_type": "code",
   "execution_count": 9,
   "metadata": {
    "colab": {
     "base_uri": "https://localhost:8080/",
     "height": 480
    },
    "executionInfo": {
     "elapsed": 721,
     "status": "ok",
     "timestamp": 1603762827730,
     "user": {
      "displayName": "Rajeev Ratan",
      "photoUrl": "https://lh3.googleusercontent.com/a-/AOh14GhBYJnwdIGYSJdvGmzIt64rYSF1dDuiFyfRw4Rpeg=s64",
      "userId": "08597265227091462140"
     },
     "user_tz": 240
    },
    "id": "R33uyQpLyml_",
    "outputId": "5f7cd836-fa54-4ce5-9725-b081cf78da1f"
   },
   "outputs": [
    {
     "data": {
      "text/html": [
       "<div>\n",
       "<style scoped>\n",
       "    .dataframe tbody tr th:only-of-type {\n",
       "        vertical-align: middle;\n",
       "    }\n",
       "\n",
       "    .dataframe tbody tr th {\n",
       "        vertical-align: top;\n",
       "    }\n",
       "\n",
       "    .dataframe thead th {\n",
       "        text-align: right;\n",
       "    }\n",
       "</style>\n",
       "<table border=\"1\" class=\"dataframe\">\n",
       "  <thead>\n",
       "    <tr style=\"text-align: right;\">\n",
       "      <th></th>\n",
       "      <th>id</th>\n",
       "      <th>city</th>\n",
       "      <th>date</th>\n",
       "      <th>season</th>\n",
       "      <th>player_of_match</th>\n",
       "      <th>venue</th>\n",
       "      <th>neutral_venue</th>\n",
       "      <th>team1</th>\n",
       "      <th>team2</th>\n",
       "      <th>toss_winner</th>\n",
       "      <th>toss_decision</th>\n",
       "      <th>winner</th>\n",
       "      <th>result</th>\n",
       "      <th>result_margin</th>\n",
       "      <th>eliminator</th>\n",
       "      <th>method</th>\n",
       "      <th>umpire1</th>\n",
       "      <th>umpire2</th>\n",
       "    </tr>\n",
       "  </thead>\n",
       "  <tbody>\n",
       "    <tr>\n",
       "      <th>66</th>\n",
       "      <td>392190</td>\n",
       "      <td>Cape Town</td>\n",
       "      <td>4/23/2009</td>\n",
       "      <td>2009</td>\n",
       "      <td>YK Pathan</td>\n",
       "      <td>Newlands</td>\n",
       "      <td>1</td>\n",
       "      <td>Kolkata Knight Riders</td>\n",
       "      <td>Rajasthan Royals</td>\n",
       "      <td>Kolkata Knight Riders</td>\n",
       "      <td>field</td>\n",
       "      <td>Rajasthan Royals</td>\n",
       "      <td>tie</td>\n",
       "      <td>NaN</td>\n",
       "      <td>Y</td>\n",
       "      <td>NaN</td>\n",
       "      <td>MR Benson</td>\n",
       "      <td>M Erasmus</td>\n",
       "    </tr>\n",
       "    <tr>\n",
       "      <th>130</th>\n",
       "      <td>419121</td>\n",
       "      <td>Chennai</td>\n",
       "      <td>3/21/2010</td>\n",
       "      <td>2010</td>\n",
       "      <td>J Theron</td>\n",
       "      <td>MA Chidambaram Stadium, Chepauk</td>\n",
       "      <td>0</td>\n",
       "      <td>Chennai Super Kings</td>\n",
       "      <td>Kings XI Punjab</td>\n",
       "      <td>Chennai Super Kings</td>\n",
       "      <td>field</td>\n",
       "      <td>Kings XI Punjab</td>\n",
       "      <td>tie</td>\n",
       "      <td>NaN</td>\n",
       "      <td>Y</td>\n",
       "      <td>NaN</td>\n",
       "      <td>K Hariharan</td>\n",
       "      <td>DJ Harper</td>\n",
       "    </tr>\n",
       "    <tr>\n",
       "      <th>328</th>\n",
       "      <td>598004</td>\n",
       "      <td>Hyderabad</td>\n",
       "      <td>4/7/2013</td>\n",
       "      <td>2013</td>\n",
       "      <td>GH Vihari</td>\n",
       "      <td>Rajiv Gandhi International Stadium, Uppal</td>\n",
       "      <td>0</td>\n",
       "      <td>Sunrisers Hyderabad</td>\n",
       "      <td>Royal Challengers Bangalore</td>\n",
       "      <td>Royal Challengers Bangalore</td>\n",
       "      <td>bat</td>\n",
       "      <td>Sunrisers Hyderabad</td>\n",
       "      <td>tie</td>\n",
       "      <td>NaN</td>\n",
       "      <td>Y</td>\n",
       "      <td>NaN</td>\n",
       "      <td>AK Chaudhary</td>\n",
       "      <td>S Ravi</td>\n",
       "    </tr>\n",
       "    <tr>\n",
       "      <th>341</th>\n",
       "      <td>598017</td>\n",
       "      <td>Bangalore</td>\n",
       "      <td>4/16/2013</td>\n",
       "      <td>2013</td>\n",
       "      <td>V Kohli</td>\n",
       "      <td>M Chinnaswamy Stadium</td>\n",
       "      <td>0</td>\n",
       "      <td>Royal Challengers Bangalore</td>\n",
       "      <td>Delhi Daredevils</td>\n",
       "      <td>Royal Challengers Bangalore</td>\n",
       "      <td>field</td>\n",
       "      <td>Royal Challengers Bangalore</td>\n",
       "      <td>tie</td>\n",
       "      <td>NaN</td>\n",
       "      <td>Y</td>\n",
       "      <td>NaN</td>\n",
       "      <td>M Erasmus</td>\n",
       "      <td>VA Kulkarni</td>\n",
       "    </tr>\n",
       "    <tr>\n",
       "      <th>416</th>\n",
       "      <td>729315</td>\n",
       "      <td>Abu Dhabi</td>\n",
       "      <td>4/29/2014</td>\n",
       "      <td>2014</td>\n",
       "      <td>JP Faulkner</td>\n",
       "      <td>Sheikh Zayed Stadium</td>\n",
       "      <td>1</td>\n",
       "      <td>Kolkata Knight Riders</td>\n",
       "      <td>Rajasthan Royals</td>\n",
       "      <td>Rajasthan Royals</td>\n",
       "      <td>bat</td>\n",
       "      <td>Rajasthan Royals</td>\n",
       "      <td>tie</td>\n",
       "      <td>NaN</td>\n",
       "      <td>Y</td>\n",
       "      <td>NaN</td>\n",
       "      <td>Aleem Dar</td>\n",
       "      <td>AK Chaudhary</td>\n",
       "    </tr>\n",
       "    <tr>\n",
       "      <th>476</th>\n",
       "      <td>829741</td>\n",
       "      <td>Ahmedabad</td>\n",
       "      <td>4/21/2015</td>\n",
       "      <td>2015</td>\n",
       "      <td>SE Marsh</td>\n",
       "      <td>Sardar Patel Stadium, Motera</td>\n",
       "      <td>0</td>\n",
       "      <td>Rajasthan Royals</td>\n",
       "      <td>Kings XI Punjab</td>\n",
       "      <td>Kings XI Punjab</td>\n",
       "      <td>field</td>\n",
       "      <td>Kings XI Punjab</td>\n",
       "      <td>tie</td>\n",
       "      <td>NaN</td>\n",
       "      <td>Y</td>\n",
       "      <td>NaN</td>\n",
       "      <td>M Erasmus</td>\n",
       "      <td>S Ravi</td>\n",
       "    </tr>\n",
       "    <tr>\n",
       "      <th>610</th>\n",
       "      <td>1082625</td>\n",
       "      <td>Rajkot</td>\n",
       "      <td>4/29/2017</td>\n",
       "      <td>2017</td>\n",
       "      <td>KH Pandya</td>\n",
       "      <td>Saurashtra Cricket Association Stadium</td>\n",
       "      <td>0</td>\n",
       "      <td>Gujarat Lions</td>\n",
       "      <td>Mumbai Indians</td>\n",
       "      <td>Gujarat Lions</td>\n",
       "      <td>bat</td>\n",
       "      <td>Mumbai Indians</td>\n",
       "      <td>tie</td>\n",
       "      <td>NaN</td>\n",
       "      <td>Y</td>\n",
       "      <td>NaN</td>\n",
       "      <td>AK Chaudhary</td>\n",
       "      <td>CB Gaffaney</td>\n",
       "    </tr>\n",
       "    <tr>\n",
       "      <th>705</th>\n",
       "      <td>1175365</td>\n",
       "      <td>Delhi</td>\n",
       "      <td>3/30/2019</td>\n",
       "      <td>2019</td>\n",
       "      <td>PP Shaw</td>\n",
       "      <td>Feroz Shah Kotla</td>\n",
       "      <td>0</td>\n",
       "      <td>Delhi Capitals</td>\n",
       "      <td>Kolkata Knight Riders</td>\n",
       "      <td>Delhi Capitals</td>\n",
       "      <td>field</td>\n",
       "      <td>Delhi Capitals</td>\n",
       "      <td>tie</td>\n",
       "      <td>NaN</td>\n",
       "      <td>Y</td>\n",
       "      <td>NaN</td>\n",
       "      <td>AY Dandekar</td>\n",
       "      <td>Nitin Menon</td>\n",
       "    </tr>\n",
       "    <tr>\n",
       "      <th>746</th>\n",
       "      <td>1178426</td>\n",
       "      <td>Mumbai</td>\n",
       "      <td>5/2/2019</td>\n",
       "      <td>2019</td>\n",
       "      <td>JJ Bumrah</td>\n",
       "      <td>Wankhede Stadium</td>\n",
       "      <td>0</td>\n",
       "      <td>Mumbai Indians</td>\n",
       "      <td>Sunrisers Hyderabad</td>\n",
       "      <td>Mumbai Indians</td>\n",
       "      <td>bat</td>\n",
       "      <td>Mumbai Indians</td>\n",
       "      <td>tie</td>\n",
       "      <td>NaN</td>\n",
       "      <td>Y</td>\n",
       "      <td>NaN</td>\n",
       "      <td>CK Nandan</td>\n",
       "      <td>S Ravi</td>\n",
       "    </tr>\n",
       "    <tr>\n",
       "      <th>757</th>\n",
       "      <td>1216493</td>\n",
       "      <td>Dubai</td>\n",
       "      <td>9/20/2020</td>\n",
       "      <td>2020</td>\n",
       "      <td>MP Stoinis</td>\n",
       "      <td>Dubai International Cricket Stadium</td>\n",
       "      <td>0</td>\n",
       "      <td>Delhi Capitals</td>\n",
       "      <td>Kings XI Punjab</td>\n",
       "      <td>Kings XI Punjab</td>\n",
       "      <td>field</td>\n",
       "      <td>Delhi Capitals</td>\n",
       "      <td>tie</td>\n",
       "      <td>NaN</td>\n",
       "      <td>Y</td>\n",
       "      <td>NaN</td>\n",
       "      <td>AK Chaudhary</td>\n",
       "      <td>Nitin Menon</td>\n",
       "    </tr>\n",
       "    <tr>\n",
       "      <th>776</th>\n",
       "      <td>1216512</td>\n",
       "      <td>Abu Dhabi</td>\n",
       "      <td>10/18/2020</td>\n",
       "      <td>2020</td>\n",
       "      <td>LH Ferguson</td>\n",
       "      <td>Sheikh Zayed Stadium</td>\n",
       "      <td>0</td>\n",
       "      <td>Kolkata Knight Riders</td>\n",
       "      <td>Sunrisers Hyderabad</td>\n",
       "      <td>Sunrisers Hyderabad</td>\n",
       "      <td>field</td>\n",
       "      <td>Kolkata Knight Riders</td>\n",
       "      <td>tie</td>\n",
       "      <td>NaN</td>\n",
       "      <td>Y</td>\n",
       "      <td>NaN</td>\n",
       "      <td>PG Pathak</td>\n",
       "      <td>S Ravi</td>\n",
       "    </tr>\n",
       "    <tr>\n",
       "      <th>781</th>\n",
       "      <td>1216517</td>\n",
       "      <td>Dubai</td>\n",
       "      <td>10/18/2020</td>\n",
       "      <td>2020</td>\n",
       "      <td>KL Rahul</td>\n",
       "      <td>Dubai International Cricket Stadium</td>\n",
       "      <td>0</td>\n",
       "      <td>Mumbai Indians</td>\n",
       "      <td>Kings XI Punjab</td>\n",
       "      <td>Mumbai Indians</td>\n",
       "      <td>bat</td>\n",
       "      <td>Kings XI Punjab</td>\n",
       "      <td>tie</td>\n",
       "      <td>NaN</td>\n",
       "      <td>Y</td>\n",
       "      <td>NaN</td>\n",
       "      <td>Nitin Menon</td>\n",
       "      <td>PR Reiffel</td>\n",
       "    </tr>\n",
       "    <tr>\n",
       "      <th>811</th>\n",
       "      <td>1216547</td>\n",
       "      <td>Dubai</td>\n",
       "      <td>9/28/2020</td>\n",
       "      <td>2020</td>\n",
       "      <td>AB de Villiers</td>\n",
       "      <td>Dubai International Cricket Stadium</td>\n",
       "      <td>0</td>\n",
       "      <td>Royal Challengers Bangalore</td>\n",
       "      <td>Mumbai Indians</td>\n",
       "      <td>Mumbai Indians</td>\n",
       "      <td>field</td>\n",
       "      <td>Royal Challengers Bangalore</td>\n",
       "      <td>tie</td>\n",
       "      <td>NaN</td>\n",
       "      <td>Y</td>\n",
       "      <td>NaN</td>\n",
       "      <td>Nitin Menon</td>\n",
       "      <td>PR Reiffel</td>\n",
       "    </tr>\n",
       "  </tbody>\n",
       "</table>\n",
       "</div>"
      ],
      "text/plain": [
       "          id       city        date  season player_of_match  \\\n",
       "66    392190  Cape Town   4/23/2009    2009       YK Pathan   \n",
       "130   419121    Chennai   3/21/2010    2010        J Theron   \n",
       "328   598004  Hyderabad    4/7/2013    2013       GH Vihari   \n",
       "341   598017  Bangalore   4/16/2013    2013         V Kohli   \n",
       "416   729315  Abu Dhabi   4/29/2014    2014     JP Faulkner   \n",
       "476   829741  Ahmedabad   4/21/2015    2015        SE Marsh   \n",
       "610  1082625     Rajkot   4/29/2017    2017       KH Pandya   \n",
       "705  1175365      Delhi   3/30/2019    2019         PP Shaw   \n",
       "746  1178426     Mumbai    5/2/2019    2019       JJ Bumrah   \n",
       "757  1216493      Dubai   9/20/2020    2020      MP Stoinis   \n",
       "776  1216512  Abu Dhabi  10/18/2020    2020     LH Ferguson   \n",
       "781  1216517      Dubai  10/18/2020    2020        KL Rahul   \n",
       "811  1216547      Dubai   9/28/2020    2020  AB de Villiers   \n",
       "\n",
       "                                         venue  neutral_venue  \\\n",
       "66                                    Newlands              1   \n",
       "130            MA Chidambaram Stadium, Chepauk              0   \n",
       "328  Rajiv Gandhi International Stadium, Uppal              0   \n",
       "341                      M Chinnaswamy Stadium              0   \n",
       "416                       Sheikh Zayed Stadium              1   \n",
       "476               Sardar Patel Stadium, Motera              0   \n",
       "610     Saurashtra Cricket Association Stadium              0   \n",
       "705                           Feroz Shah Kotla              0   \n",
       "746                           Wankhede Stadium              0   \n",
       "757        Dubai International Cricket Stadium              0   \n",
       "776                       Sheikh Zayed Stadium              0   \n",
       "781        Dubai International Cricket Stadium              0   \n",
       "811        Dubai International Cricket Stadium              0   \n",
       "\n",
       "                           team1                        team2  \\\n",
       "66         Kolkata Knight Riders             Rajasthan Royals   \n",
       "130          Chennai Super Kings              Kings XI Punjab   \n",
       "328          Sunrisers Hyderabad  Royal Challengers Bangalore   \n",
       "341  Royal Challengers Bangalore             Delhi Daredevils   \n",
       "416        Kolkata Knight Riders             Rajasthan Royals   \n",
       "476             Rajasthan Royals              Kings XI Punjab   \n",
       "610                Gujarat Lions               Mumbai Indians   \n",
       "705               Delhi Capitals        Kolkata Knight Riders   \n",
       "746               Mumbai Indians          Sunrisers Hyderabad   \n",
       "757               Delhi Capitals              Kings XI Punjab   \n",
       "776        Kolkata Knight Riders          Sunrisers Hyderabad   \n",
       "781               Mumbai Indians              Kings XI Punjab   \n",
       "811  Royal Challengers Bangalore               Mumbai Indians   \n",
       "\n",
       "                     toss_winner toss_decision                       winner  \\\n",
       "66         Kolkata Knight Riders         field             Rajasthan Royals   \n",
       "130          Chennai Super Kings         field              Kings XI Punjab   \n",
       "328  Royal Challengers Bangalore           bat          Sunrisers Hyderabad   \n",
       "341  Royal Challengers Bangalore         field  Royal Challengers Bangalore   \n",
       "416             Rajasthan Royals           bat             Rajasthan Royals   \n",
       "476              Kings XI Punjab         field              Kings XI Punjab   \n",
       "610                Gujarat Lions           bat               Mumbai Indians   \n",
       "705               Delhi Capitals         field               Delhi Capitals   \n",
       "746               Mumbai Indians           bat               Mumbai Indians   \n",
       "757              Kings XI Punjab         field               Delhi Capitals   \n",
       "776          Sunrisers Hyderabad         field        Kolkata Knight Riders   \n",
       "781               Mumbai Indians           bat              Kings XI Punjab   \n",
       "811               Mumbai Indians         field  Royal Challengers Bangalore   \n",
       "\n",
       "    result  result_margin eliminator method       umpire1       umpire2  \n",
       "66     tie            NaN          Y    NaN     MR Benson     M Erasmus  \n",
       "130    tie            NaN          Y    NaN   K Hariharan     DJ Harper  \n",
       "328    tie            NaN          Y    NaN  AK Chaudhary        S Ravi  \n",
       "341    tie            NaN          Y    NaN     M Erasmus   VA Kulkarni  \n",
       "416    tie            NaN          Y    NaN     Aleem Dar  AK Chaudhary  \n",
       "476    tie            NaN          Y    NaN     M Erasmus        S Ravi  \n",
       "610    tie            NaN          Y    NaN  AK Chaudhary   CB Gaffaney  \n",
       "705    tie            NaN          Y    NaN   AY Dandekar   Nitin Menon  \n",
       "746    tie            NaN          Y    NaN     CK Nandan        S Ravi  \n",
       "757    tie            NaN          Y    NaN  AK Chaudhary   Nitin Menon  \n",
       "776    tie            NaN          Y    NaN     PG Pathak        S Ravi  \n",
       "781    tie            NaN          Y    NaN   Nitin Menon    PR Reiffel  \n",
       "811    tie            NaN          Y    NaN   Nitin Menon    PR Reiffel  "
      ]
     },
     "execution_count": 9,
     "metadata": {},
     "output_type": "execute_result"
    }
   ],
   "source": [
    "tie_matches_no = match_data.loc[match_data['result']=='tie']\n",
    "tie_matches_no"
   ]
  },
  {
   "cell_type": "markdown",
   "metadata": {
    "id": "315QS0YfwNKd"
   },
   "source": [
    "### The Most Popular Venues in the IPL from 2008 to 2020"
   ]
  },
  {
   "cell_type": "code",
   "execution_count": 11,
   "metadata": {
    "colab": {
     "base_uri": "https://localhost:8080/",
     "height": 622
    },
    "executionInfo": {
     "elapsed": 706,
     "status": "ok",
     "timestamp": 1603762959057,
     "user": {
      "displayName": "Rajeev Ratan",
      "photoUrl": "https://lh3.googleusercontent.com/a-/AOh14GhBYJnwdIGYSJdvGmzIt64rYSF1dDuiFyfRw4Rpeg=s64",
      "userId": "08597265227091462140"
     },
     "user_tz": 240
    },
    "id": "7lb24VpWuKta",
    "outputId": "3c922c3a-e261-43f7-c8a0-8a9a9b913587"
   },
   "outputs": [
    {
     "data": {
      "text/plain": [
       "Eden Gardens                                            77\n",
       "Feroz Shah Kotla                                        74\n",
       "Wankhede Stadium                                        73\n",
       "M Chinnaswamy Stadium                                   65\n",
       "Rajiv Gandhi International Stadium, Uppal               64\n",
       "MA Chidambaram Stadium, Chepauk                         57\n",
       "Sawai Mansingh Stadium                                  47\n",
       "Punjab Cricket Association Stadium, Mohali              35\n",
       "Dubai International Cricket Stadium                     33\n",
       "Sheikh Zayed Stadium                                    29\n",
       "Punjab Cricket Association IS Bindra Stadium, Mohali    21\n",
       "Maharashtra Cricket Association Stadium                 21\n",
       "Sharjah Cricket Stadium                                 18\n",
       "Subrata Roy Sahara Stadium                              17\n",
       "Dr DY Patil Sports Academy                              17\n",
       "Kingsmead                                               15\n",
       "M.Chinnaswamy Stadium                                   15\n",
       "Dr. Y.S. Rajasekhara Reddy ACA-VDCA Cricket Stadium     13\n",
       "Sardar Patel Stadium, Motera                            12\n",
       "SuperSport Park                                         12\n",
       "Brabourne Stadium                                       11\n",
       "Saurashtra Cricket Association Stadium                  10\n",
       "Himachal Pradesh Cricket Association Stadium             9\n",
       "Holkar Cricket Stadium                                   9\n",
       "New Wanderers Stadium                                    8\n",
       "JSCA International Stadium Complex                       7\n",
       "Newlands                                                 7\n",
       "Barabati Stadium                                         7\n",
       "St George's Park                                         7\n",
       "Shaheed Veer Narayan Singh International Stadium         6\n",
       "Nehru Stadium                                            5\n",
       "Green Park                                               4\n",
       "Buffalo Park                                             3\n",
       "Vidarbha Cricket Association Stadium, Jamtha             3\n",
       "De Beers Diamond Oval                                    3\n",
       "OUTsurance Oval                                          2\n",
       "Name: venue, dtype: int64"
      ]
     },
     "execution_count": 11,
     "metadata": {},
     "output_type": "execute_result"
    }
   ],
   "source": [
    "match_data['venue'].value_counts().sort_values(ascending=False)"
   ]
  },
  {
   "cell_type": "code",
   "execution_count": 12,
   "metadata": {
    "_kg_hide-input": true,
    "colab": {
     "base_uri": "https://localhost:8080/",
     "height": 603
    },
    "executionInfo": {
     "elapsed": 1015,
     "status": "ok",
     "timestamp": 1603763032611,
     "user": {
      "displayName": "Rajeev Ratan",
      "photoUrl": "https://lh3.googleusercontent.com/a-/AOh14GhBYJnwdIGYSJdvGmzIt64rYSF1dDuiFyfRw4Rpeg=s64",
      "userId": "08597265227091462140"
     },
     "user_tz": 240
    },
    "id": "RcwTKWLSwNKe",
    "outputId": "ac07eebd-cb4c-4e3f-86ab-42e1c8df1115"
   },
   "outputs": [
    {
     "name": "stderr",
     "output_type": "stream",
     "text": [
      "C:\\Users\\RAJAN\\anaconda3\\lib\\site-packages\\seaborn\\_decorators.py:43: FutureWarning: Pass the following variables as keyword args: x, y. From version 0.12, the only valid positional argument will be `data`, and passing other arguments without an explicit keyword will result in an error or misinterpretation.\n",
      "  FutureWarning\n"
     ]
    },
    {
     "data": {
      "image/png": "[encoded data removed]",
      "text/plain": [
       "<Figure size 1440x432 with 1 Axes>"
      ]
     },
     "metadata": {},
     "output_type": "display_data"
    }
   ],
   "source": [
    "sns.set_style(\"darkgrid\")# to make background with grid\n",
    "ls=match_data['venue'].value_counts().sort_values(ascending=False)\n",
    "ls=ls[:10]\n",
    "plt.figure(figsize=(20,6))\n",
    "Most_Played =sns.barplot(ls.index, ls.values, alpha=0.8)\n",
    "\n",
    "plt.title('Most Played venue')\n",
    "plt.ylabel('Count', fontsize=12)\n",
    "plt.xlabel('Name of the stadiums', fontsize=15)\n",
    "Most_Played.set_xticklabels(rotation=30,labels=ls.index,fontsize=10)\n",
    "plt.show()\n"
   ]
  },
  {
   "cell_type": "markdown",
   "metadata": {
    "id": "WsvVSm-cwNKg"
   },
   "source": [
    "This shows **Eden Gardens** has hosted most matches in the History of IPL"
   ]
  },
  {
   "cell_type": "markdown",
   "metadata": {
    "id": "O9jCJdrRwNKh"
   },
   "source": [
    "# 2. Visualizations - Match Statistics\n",
    "## Player with the most 'Man of the Matches' across 13 Seasons"
   ]
  },
  {
   "cell_type": "code",
   "execution_count": 13,
   "metadata": {
    "colab": {
     "base_uri": "https://localhost:8080/",
     "height": 202
    },
    "executionInfo": {
     "elapsed": 832,
     "status": "ok",
     "timestamp": 1603763217287,
     "user": {
      "displayName": "Rajeev Ratan",
      "photoUrl": "https://lh3.googleusercontent.com/a-/AOh14GhBYJnwdIGYSJdvGmzIt64rYSF1dDuiFyfRw4Rpeg=s64",
      "userId": "08597265227091462140"
     },
     "user_tz": 240
    },
    "id": "7WEm77gquzwU",
    "outputId": "196bb7bc-71c8-4c53-fee0-1be8e1e4d5d0"
   },
   "outputs": [
    {
     "data": {
      "text/plain": [
       "AB de Villiers    23\n",
       "CH Gayle          22\n",
       "RG Sharma         18\n",
       "DA Warner         17\n",
       "MS Dhoni          17\n",
       "YK Pathan         16\n",
       "SR Watson         16\n",
       "SK Raina          14\n",
       "V Kohli           13\n",
       "G Gambhir         13\n",
       "Name: player_of_match, dtype: int64"
      ]
     },
     "execution_count": 13,
     "metadata": {},
     "output_type": "execute_result"
    }
   ],
   "source": [
    "match_data['player_of_match'].value_counts().head(10)"
   ]
  },
  {
   "cell_type": "code",
   "execution_count": 14,
   "metadata": {
    "_kg_hide-input": true,
    "colab": {
     "base_uri": "https://localhost:8080/",
     "height": 547
    },
    "executionInfo": {
     "elapsed": 1420,
     "status": "ok",
     "timestamp": 1603763281077,
     "user": {
      "displayName": "Rajeev Ratan",
      "photoUrl": "https://lh3.googleusercontent.com/a-/AOh14GhBYJnwdIGYSJdvGmzIt64rYSF1dDuiFyfRw4Rpeg=s64",
      "userId": "08597265227091462140"
     },
     "user_tz": 240
    },
    "id": "MhlUw0PAwNKh",
    "outputId": "9cdc195b-b4a8-414a-c877-c7e20657b9b7"
   },
   "outputs": [
    {
     "name": "stderr",
     "output_type": "stream",
     "text": [
      "C:\\Users\\RAJAN\\anaconda3\\lib\\site-packages\\seaborn\\_decorators.py:43: FutureWarning: Pass the following variables as keyword args: x, y. From version 0.12, the only valid positional argument will be `data`, and passing other arguments without an explicit keyword will result in an error or misinterpretation.\n",
      "  FutureWarning\n"
     ]
    },
    {
     "data": {
      "image/png": "[encoded data removed]",
      "text/plain": [
       "<Figure size 1440x432 with 1 Axes>"
      ]
     },
     "metadata": {},
     "output_type": "display_data"
    }
   ],
   "source": [
    "man_of_match = match_data['player_of_match'].value_counts()\n",
    "man_of_match = man_of_match[:10]\n",
    "sns.set_style(\"darkgrid\")\n",
    "plt.figure(figsize=(20,6))\n",
    "man_of_matches = sns.barplot(man_of_match.index, man_of_match.values, alpha=0.8,palette='winter')\n",
    "plt.title('Most Player Of The Match')\n",
    "plt.ylabel('Count', fontsize=12)\n",
    "plt.xlabel('player_of_match', fontsize=12)\n",
    "man_of_matches.set_xticklabels(rotation=30,labels=man_of_match.index,fontsize=15)\n",
    "plt.show()"
   ]
  },
  {
   "cell_type": "markdown",
   "metadata": {
    "id": "Co59ORo0wNKk"
   },
   "source": [
    "**AB de Villiers** has recived most man of the matches from 2008 to 2017"
   ]
  },
  {
   "cell_type": "markdown",
   "metadata": {
    "id": "kfGe6u3OwNKk"
   },
   "source": [
    "# Matches Played across each season"
   ]
  },
  {
   "cell_type": "code",
   "execution_count": 15,
   "metadata": {
    "_kg_hide-input": true,
    "colab": {
     "base_uri": "https://localhost:8080/",
     "height": 414
    },
    "executionInfo": {
     "elapsed": 811,
     "status": "ok",
     "timestamp": 1603763314695,
     "user": {
      "displayName": "Rajeev Ratan",
      "photoUrl": "https://lh3.googleusercontent.com/a-/AOh14GhBYJnwdIGYSJdvGmzIt64rYSF1dDuiFyfRw4Rpeg=s64",
      "userId": "08597265227091462140"
     },
     "user_tz": 240
    },
    "id": "vmOEfMp6wNKl",
    "outputId": "2c1cacb5-7dad-4ae9-a2af-641963620afa"
   },
   "outputs": [
    {
     "data": {
      "text/plain": [
       "Text(0.5, 0, 'Season')"
      ]
     },
     "execution_count": 15,
     "metadata": {},
     "output_type": "execute_result"
    },
    {
     "data": {
      "image/png": "[encoded data removed]",
      "text/plain": [
       "<Figure size 1440x432 with 1 Axes>"
      ]
     },
     "metadata": {},
     "output_type": "display_data"
    }
   ],
   "source": [
    "plt.figure(figsize=(20,6))\n",
    "season=sns.countplot(x='season',data=match_data)\n",
    "plt.xlabel('Season',fontsize=20)"
   ]
  },
  {
   "cell_type": "markdown",
   "metadata": {
    "id": "wLNjmg4AwNKn"
   },
   "source": [
    "This Shows Most Matches were played in the **2013** Season"
   ]
  },
  {
   "cell_type": "markdown",
   "metadata": {
    "id": "jHEzK_PqwNKo"
   },
   "source": [
    "# Most Favourite Umpires"
   ]
  },
  {
   "cell_type": "code",
   "execution_count": 16,
   "metadata": {
    "_kg_hide-input": true,
    "colab": {
     "base_uri": "https://localhost:8080/",
     "height": 530
    },
    "executionInfo": {
     "elapsed": 1024,
     "status": "ok",
     "timestamp": 1603763380554,
     "user": {
      "displayName": "Rajeev Ratan",
      "photoUrl": "https://lh3.googleusercontent.com/a-/AOh14GhBYJnwdIGYSJdvGmzIt64rYSF1dDuiFyfRw4Rpeg=s64",
      "userId": "08597265227091462140"
     },
     "user_tz": 240
    },
    "id": "_w4JGD_uwNKo",
    "outputId": "bc818645-1d2b-4812-b096-3de9a2a0cf0b"
   },
   "outputs": [
    {
     "data": {
      "image/png": "[encoded data removed]",
      "text/plain": [
       "<Figure size 720x360 with 1 Axes>"
      ]
     },
     "metadata": {},
     "output_type": "display_data"
    }
   ],
   "source": [
    "ump=pd.concat([match_data['umpire1'],match_data['umpire2']]).value_counts().sort_values(ascending=False)\n",
    "ump=ump[:10]\n",
    "plt.figure(figsize=(10,5))\n",
    "Most_umpired =sns.barplot(x=ump.index, y=ump.values, alpha=0.9)\n",
    "\n",
    "plt.title('Favorite umpire')\n",
    "plt.ylabel('Count', fontsize=12)\n",
    "plt.xlabel('Name of the Umpire', fontsize=15)\n",
    "Most_umpired.set_xticklabels(rotation=70,labels=ump.index,fontsize=20)\n",
    "plt.show()\n",
    "\n",
    "\n"
   ]
  },
  {
   "cell_type": "markdown",
   "metadata": {
    "id": "3FFBaMRjwNKq"
   },
   "source": [
    "This shows that **S Ravi** and **Dharamsena**  were the favourite Umpires.\n"
   ]
  },
  {
   "cell_type": "markdown",
   "metadata": {
    "id": "I0zcLoL7wNK7"
   },
   "source": [
    "# 3.  A Deep Analysis of the Games in 2020"
   ]
  },
  {
   "cell_type": "markdown",
   "metadata": {
    "id": "dmgBTu6NwNK7"
   },
   "source": [
    "Is **Toss Winner** Also the Match Winner? For the year 2020"
   ]
  },
  {
   "cell_type": "code",
   "execution_count": 24,
   "metadata": {
    "colab": {
     "base_uri": "https://localhost:8080/",
     "height": 34
    },
    "executionInfo": {
     "elapsed": 783,
     "status": "ok",
     "timestamp": 1603764372580,
     "user": {
      "displayName": "Rajeev Ratan",
      "photoUrl": "https://lh3.googleusercontent.com/a-/AOh14GhBYJnwdIGYSJdvGmzIt64rYSF1dDuiFyfRw4Rpeg=s64",
      "userId": "08597265227091462140"
     },
     "user_tz": 240
    },
    "id": "LFn4cSAf0Js_",
    "outputId": "e7410aea-a137-4e58-d3bd-413f8595f7b7"
   },
   "outputs": [
    {
     "data": {
      "text/plain": [
       "60"
      ]
     },
     "execution_count": 24,
     "metadata": {},
     "output_type": "execute_result"
    }
   ],
   "source": [
    "len(match_data[match_data['season']==2020])"
   ]
  },
  {
   "cell_type": "code",
   "execution_count": 26,
   "metadata": {
    "colab": {
     "base_uri": "https://localhost:8080/",
     "height": 400
    },
    "executionInfo": {
     "elapsed": 770,
     "status": "ok",
     "timestamp": 1603764407896,
     "user": {
      "displayName": "Rajeev Ratan",
      "photoUrl": "https://lh3.googleusercontent.com/a-/AOh14GhBYJnwdIGYSJdvGmzIt64rYSF1dDuiFyfRw4Rpeg=s64",
      "userId": "08597265227091462140"
     },
     "user_tz": 240
    },
    "id": "bTQrsMcexXLj",
    "outputId": "cc926e76-4c49-47a1-8058-e9369d4527c8"
   },
   "outputs": [
    {
     "name": "stdout",
     "output_type": "stream",
     "text": [
      "25\n"
     ]
    },
    {
     "data": {
      "text/html": [
       "<div>\n",
       "<style scoped>\n",
       "    .dataframe tbody tr th:only-of-type {\n",
       "        vertical-align: middle;\n",
       "    }\n",
       "\n",
       "    .dataframe tbody tr th {\n",
       "        vertical-align: top;\n",
       "    }\n",
       "\n",
       "    .dataframe thead th {\n",
       "        text-align: right;\n",
       "    }\n",
       "</style>\n",
       "<table border=\"1\" class=\"dataframe\">\n",
       "  <thead>\n",
       "    <tr style=\"text-align: right;\">\n",
       "      <th></th>\n",
       "      <th>id</th>\n",
       "      <th>city</th>\n",
       "      <th>date</th>\n",
       "      <th>season</th>\n",
       "      <th>player_of_match</th>\n",
       "      <th>venue</th>\n",
       "      <th>neutral_venue</th>\n",
       "      <th>team1</th>\n",
       "      <th>team2</th>\n",
       "      <th>toss_winner</th>\n",
       "      <th>toss_decision</th>\n",
       "      <th>winner</th>\n",
       "      <th>result</th>\n",
       "      <th>result_margin</th>\n",
       "      <th>eliminator</th>\n",
       "      <th>method</th>\n",
       "      <th>umpire1</th>\n",
       "      <th>umpire2</th>\n",
       "    </tr>\n",
       "  </thead>\n",
       "  <tbody>\n",
       "    <tr>\n",
       "      <th>756</th>\n",
       "      <td>1216492</td>\n",
       "      <td>Abu Dhabi</td>\n",
       "      <td>9/19/2020</td>\n",
       "      <td>2020</td>\n",
       "      <td>AT Rayudu</td>\n",
       "      <td>Sheikh Zayed Stadium</td>\n",
       "      <td>0</td>\n",
       "      <td>Mumbai Indians</td>\n",
       "      <td>Chennai Super Kings</td>\n",
       "      <td>Chennai Super Kings</td>\n",
       "      <td>field</td>\n",
       "      <td>Chennai Super Kings</td>\n",
       "      <td>wickets</td>\n",
       "      <td>5.0</td>\n",
       "      <td>N</td>\n",
       "      <td>NaN</td>\n",
       "      <td>CB Gaffaney</td>\n",
       "      <td>VK Sharma</td>\n",
       "    </tr>\n",
       "    <tr>\n",
       "      <th>759</th>\n",
       "      <td>1216495</td>\n",
       "      <td>Sharjah</td>\n",
       "      <td>11/3/2020</td>\n",
       "      <td>2020</td>\n",
       "      <td>S Nadeem</td>\n",
       "      <td>Sharjah Cricket Stadium</td>\n",
       "      <td>0</td>\n",
       "      <td>Mumbai Indians</td>\n",
       "      <td>Sunrisers Hyderabad</td>\n",
       "      <td>Sunrisers Hyderabad</td>\n",
       "      <td>field</td>\n",
       "      <td>Sunrisers Hyderabad</td>\n",
       "      <td>wickets</td>\n",
       "      <td>10.0</td>\n",
       "      <td>N</td>\n",
       "      <td>NaN</td>\n",
       "      <td>C Shamshuddin</td>\n",
       "      <td>RK Illingworth</td>\n",
       "    </tr>\n",
       "    <tr>\n",
       "      <th>763</th>\n",
       "      <td>1216499</td>\n",
       "      <td>Abu Dhabi</td>\n",
       "      <td>10/28/2020</td>\n",
       "      <td>2020</td>\n",
       "      <td>SA Yadav</td>\n",
       "      <td>Sheikh Zayed Stadium</td>\n",
       "      <td>0</td>\n",
       "      <td>Royal Challengers Bangalore</td>\n",
       "      <td>Mumbai Indians</td>\n",
       "      <td>Mumbai Indians</td>\n",
       "      <td>field</td>\n",
       "      <td>Mumbai Indians</td>\n",
       "      <td>wickets</td>\n",
       "      <td>5.0</td>\n",
       "      <td>N</td>\n",
       "      <td>NaN</td>\n",
       "      <td>UV Gandhe</td>\n",
       "      <td>CB Gaffaney</td>\n",
       "    </tr>\n",
       "    <tr>\n",
       "      <th>765</th>\n",
       "      <td>1216501</td>\n",
       "      <td>Abu Dhabi</td>\n",
       "      <td>10/7/2020</td>\n",
       "      <td>2020</td>\n",
       "      <td>RA Tripathi</td>\n",
       "      <td>Sheikh Zayed Stadium</td>\n",
       "      <td>0</td>\n",
       "      <td>Kolkata Knight Riders</td>\n",
       "      <td>Chennai Super Kings</td>\n",
       "      <td>Kolkata Knight Riders</td>\n",
       "      <td>bat</td>\n",
       "      <td>Kolkata Knight Riders</td>\n",
       "      <td>runs</td>\n",
       "      <td>10.0</td>\n",
       "      <td>N</td>\n",
       "      <td>NaN</td>\n",
       "      <td>KN Ananthapadmanabhan</td>\n",
       "      <td>RK Illingworth</td>\n",
       "    </tr>\n",
       "    <tr>\n",
       "      <th>766</th>\n",
       "      <td>1216502</td>\n",
       "      <td>Sharjah</td>\n",
       "      <td>10/31/2020</td>\n",
       "      <td>2020</td>\n",
       "      <td>Sandeep Sharma</td>\n",
       "      <td>Sharjah Cricket Stadium</td>\n",
       "      <td>0</td>\n",
       "      <td>Royal Challengers Bangalore</td>\n",
       "      <td>Sunrisers Hyderabad</td>\n",
       "      <td>Sunrisers Hyderabad</td>\n",
       "      <td>field</td>\n",
       "      <td>Sunrisers Hyderabad</td>\n",
       "      <td>wickets</td>\n",
       "      <td>5.0</td>\n",
       "      <td>N</td>\n",
       "      <td>NaN</td>\n",
       "      <td>KN Ananthapadmanabhan</td>\n",
       "      <td>K Srinivasan</td>\n",
       "    </tr>\n",
       "  </tbody>\n",
       "</table>\n",
       "</div>"
      ],
      "text/plain": [
       "          id       city        date  season player_of_match  \\\n",
       "756  1216492  Abu Dhabi   9/19/2020    2020       AT Rayudu   \n",
       "759  1216495    Sharjah   11/3/2020    2020        S Nadeem   \n",
       "763  1216499  Abu Dhabi  10/28/2020    2020        SA Yadav   \n",
       "765  1216501  Abu Dhabi   10/7/2020    2020     RA Tripathi   \n",
       "766  1216502    Sharjah  10/31/2020    2020  Sandeep Sharma   \n",
       "\n",
       "                       venue  neutral_venue                        team1  \\\n",
       "756     Sheikh Zayed Stadium              0               Mumbai Indians   \n",
       "759  Sharjah Cricket Stadium              0               Mumbai Indians   \n",
       "763     Sheikh Zayed Stadium              0  Royal Challengers Bangalore   \n",
       "765     Sheikh Zayed Stadium              0        Kolkata Knight Riders   \n",
       "766  Sharjah Cricket Stadium              0  Royal Challengers Bangalore   \n",
       "\n",
       "                   team2            toss_winner toss_decision  \\\n",
       "756  Chennai Super Kings    Chennai Super Kings         field   \n",
       "759  Sunrisers Hyderabad    Sunrisers Hyderabad         field   \n",
       "763       Mumbai Indians         Mumbai Indians         field   \n",
       "765  Chennai Super Kings  Kolkata Knight Riders           bat   \n",
       "766  Sunrisers Hyderabad    Sunrisers Hyderabad         field   \n",
       "\n",
       "                    winner   result  result_margin eliminator method  \\\n",
       "756    Chennai Super Kings  wickets            5.0          N    NaN   \n",
       "759    Sunrisers Hyderabad  wickets           10.0          N    NaN   \n",
       "763         Mumbai Indians  wickets            5.0          N    NaN   \n",
       "765  Kolkata Knight Riders     runs           10.0          N    NaN   \n",
       "766    Sunrisers Hyderabad  wickets            5.0          N    NaN   \n",
       "\n",
       "                   umpire1         umpire2  \n",
       "756            CB Gaffaney       VK Sharma  \n",
       "759          C Shamshuddin  RK Illingworth  \n",
       "763              UV Gandhe     CB Gaffaney  \n",
       "765  KN Ananthapadmanabhan  RK Illingworth  \n",
       "766  KN Ananthapadmanabhan    K Srinivasan  "
      ]
     },
     "execution_count": 26,
     "metadata": {},
     "output_type": "execute_result"
    }
   ],
   "source": [
    "match_2020 = match_data[match_data['season'] == 2020]\n",
    "print(len(match_2020[match_2020['toss_winner'] == match_2020['winner']]))\n",
    "match_2020[match_2020['toss_winner'] == match_2020['winner']].head()"
   ]
  },
  {
   "cell_type": "code",
   "execution_count": 28,
   "metadata": {
    "_kg_hide-input": true,
    "colab": {
     "base_uri": "https://localhost:8080/",
     "height": 248
    },
    "executionInfo": {
     "elapsed": 904,
     "status": "ok",
     "timestamp": 1603764440467,
     "user": {
      "displayName": "Rajeev Ratan",
      "photoUrl": "https://lh3.googleusercontent.com/a-/AOh14GhBYJnwdIGYSJdvGmzIt64rYSF1dDuiFyfRw4Rpeg=s64",
      "userId": "08597265227091462140"
     },
     "user_tz": 240
    },
    "id": "vp5XWQhQwNK7",
    "outputId": "b5595232-8da0-49ef-ff65-22b59de83ef7"
   },
   "outputs": [
    {
     "data": {
      "image/png": "[encoded data removed]",
      "text/plain": [
       "<Figure size 432x288 with 1 Axes>"
      ]
     },
     "metadata": {},
     "output_type": "display_data"
    }
   ],
   "source": [
    "match_2020 = match_data[match_data['season'] == 2020]\n",
    "df = match_2020[match_2020['toss_winner'] == match_2020['winner']]\n",
    "\n",
    "# because total of 60 matches were played in 2016\n",
    "slices = [len(df), (60-len(df))] \n",
    "labels = ['yes','no']\n",
    "plt.pie(slices,labels=labels,startangle=90,shadow=True,explode=(0,0.05),autopct='%1.2f%%',colors=['#99ff99','#ffcc99'])\n",
    "plt.show()"
   ]
  },
  {
   "cell_type": "markdown",
   "metadata": {
    "id": "L9JrB9X4wNK9"
   },
   "source": [
    "**NO**, In 2020 if a team won the **toss** they had slightly lesser chances to win the match"
   ]
  },
  {
   "cell_type": "markdown",
   "metadata": {
    "id": "M1B7RB6hwNK-"
   },
   "source": [
    "Trends in 2020 after **winning the toss**."
   ]
  },
  {
   "cell_type": "code",
   "execution_count": 29,
   "metadata": {
    "_kg_hide-input": true,
    "colab": {
     "base_uri": "https://localhost:8080/",
     "height": 258
    },
    "executionInfo": {
     "elapsed": 791,
     "status": "ok",
     "timestamp": 1603764498518,
     "user": {
      "displayName": "Rajeev Ratan",
      "photoUrl": "https://lh3.googleusercontent.com/a-/AOh14GhBYJnwdIGYSJdvGmzIt64rYSF1dDuiFyfRw4Rpeg=s64",
      "userId": "08597265227091462140"
     },
     "user_tz": 240
    },
    "id": "rbYG82zvwNK-",
    "outputId": "438d5aec-b0e5-46d4-af4b-3f74935749ce"
   },
   "outputs": [
    {
     "data": {
      "image/png": "[encoded data removed]",
      "text/plain": [
       "<Figure size 432x288 with 1 Axes>"
      ]
     },
     "metadata": {},
     "output_type": "display_data"
    }
   ],
   "source": [
    "dfs = match_data[(match_data['toss_decision']=='field') & (match_data['season']==2020) ]\n",
    "labels=['Bat','Field']\n",
    "slices=[60-len(dfs),len(dfs)]\n",
    "plt.pie(slices,labels=labels,startangle=90,shadow=1,explode=(0.2,0.4),autopct='%1.2f%%',colors=['#ff9999','#66b3ff'])\n",
    "plt.show()"
   ]
  },
  {
   "cell_type": "markdown",
   "metadata": {
    "id": "Qb6FuG2bwNLA"
   },
   "source": [
    "Teams winning toss in 2020 majorly decide to **Field** first."
   ]
  },
  {
   "cell_type": "markdown",
   "metadata": {
    "id": "Y1StRy1uwNLA"
   },
   "source": [
    "## Why do sides choose to field first?"
   ]
  },
  {
   "cell_type": "code",
   "execution_count": 31,
   "metadata": {
    "_kg_hide-input": true,
    "colab": {
     "base_uri": "https://localhost:8080/",
     "height": 248
    },
    "executionInfo": {
     "elapsed": 833,
     "status": "ok",
     "timestamp": 1603764566011,
     "user": {
      "displayName": "Rajeev Ratan",
      "photoUrl": "https://lh3.googleusercontent.com/a-/AOh14GhBYJnwdIGYSJdvGmzIt64rYSF1dDuiFyfRw4Rpeg=s64",
      "userId": "08597265227091462140"
     },
     "user_tz": 240
    },
    "id": "ZWt-JR_DwNLB",
    "outputId": "57721ee4-42c0-46eb-d25e-6b89d092d87f"
   },
   "outputs": [
    {
     "data": {
      "image/png": "[encoded data removed]",
      "text/plain": [
       "<Figure size 432x288 with 1 Axes>"
      ]
     },
     "metadata": {},
     "output_type": "display_data"
    }
   ],
   "source": [
    "dfd = match_2020[(match_2020['toss_decision']=='field') & (match_2020['toss_winner']==match_2020['winner'])]\n",
    "labels=['Fielding First Side Won','Fielding Second Side Won']\n",
    "slices=[len(dfd),60-len(dfd)]\n",
    "plt.pie(slices,labels=labels,startangle=90,shadow=1,explode=(0.2,0.4),autopct='%1.2f%%',colors=['#ff9999','#66b3ff'])\n",
    "plt.show()"
   ]
  },
  {
   "cell_type": "markdown",
   "metadata": {
    "id": "UpBibFMUwNLD"
   },
   "source": [
    "Sides Fielding First Side Won More Matches in 2020"
   ]
  },
  {
   "cell_type": "markdown",
   "metadata": {
    "id": "XYRGadpCwNLD"
   },
   "source": [
    "# Team Comparisons"
   ]
  },
  {
   "cell_type": "code",
   "execution_count": 32,
   "metadata": {
    "colab": {
     "base_uri": "https://localhost:8080/",
     "height": 400
    },
    "executionInfo": {
     "elapsed": 727,
     "status": "ok",
     "timestamp": 1603764707343,
     "user": {
      "displayName": "Rajeev Ratan",
      "photoUrl": "https://lh3.googleusercontent.com/a-/AOh14GhBYJnwdIGYSJdvGmzIt64rYSF1dDuiFyfRw4Rpeg=s64",
      "userId": "08597265227091462140"
     },
     "user_tz": 240
    },
    "id": "zgJqGzDE00m9",
    "outputId": "bea31fa1-eac8-4d43-a9a1-fe61dd0e530d"
   },
   "outputs": [
    {
     "data": {
      "text/html": [
       "<div>\n",
       "<style scoped>\n",
       "    .dataframe tbody tr th:only-of-type {\n",
       "        vertical-align: middle;\n",
       "    }\n",
       "\n",
       "    .dataframe tbody tr th {\n",
       "        vertical-align: top;\n",
       "    }\n",
       "\n",
       "    .dataframe thead th {\n",
       "        text-align: right;\n",
       "    }\n",
       "</style>\n",
       "<table border=\"1\" class=\"dataframe\">\n",
       "  <thead>\n",
       "    <tr style=\"text-align: right;\">\n",
       "      <th></th>\n",
       "      <th>id</th>\n",
       "      <th>city</th>\n",
       "      <th>date</th>\n",
       "      <th>season</th>\n",
       "      <th>player_of_match</th>\n",
       "      <th>venue</th>\n",
       "      <th>neutral_venue</th>\n",
       "      <th>team1</th>\n",
       "      <th>team2</th>\n",
       "      <th>toss_winner</th>\n",
       "      <th>toss_decision</th>\n",
       "      <th>winner</th>\n",
       "      <th>result</th>\n",
       "      <th>result_margin</th>\n",
       "      <th>eliminator</th>\n",
       "      <th>method</th>\n",
       "      <th>umpire1</th>\n",
       "      <th>umpire2</th>\n",
       "    </tr>\n",
       "  </thead>\n",
       "  <tbody>\n",
       "    <tr>\n",
       "      <th>0</th>\n",
       "      <td>335982</td>\n",
       "      <td>Bangalore</td>\n",
       "      <td>4/18/2008</td>\n",
       "      <td>2008</td>\n",
       "      <td>BB McCullum</td>\n",
       "      <td>M Chinnaswamy Stadium</td>\n",
       "      <td>0</td>\n",
       "      <td>Royal Challengers Bangalore</td>\n",
       "      <td>Kolkata Knight Riders</td>\n",
       "      <td>Royal Challengers Bangalore</td>\n",
       "      <td>field</td>\n",
       "      <td>Kolkata Knight Riders</td>\n",
       "      <td>runs</td>\n",
       "      <td>140.0</td>\n",
       "      <td>N</td>\n",
       "      <td>NaN</td>\n",
       "      <td>Asad Rauf</td>\n",
       "      <td>RE Koertzen</td>\n",
       "    </tr>\n",
       "    <tr>\n",
       "      <th>1</th>\n",
       "      <td>335983</td>\n",
       "      <td>Chandigarh</td>\n",
       "      <td>4/19/2008</td>\n",
       "      <td>2008</td>\n",
       "      <td>MEK Hussey</td>\n",
       "      <td>Punjab Cricket Association Stadium, Mohali</td>\n",
       "      <td>0</td>\n",
       "      <td>Kings XI Punjab</td>\n",
       "      <td>Chennai Super Kings</td>\n",
       "      <td>Chennai Super Kings</td>\n",
       "      <td>bat</td>\n",
       "      <td>Chennai Super Kings</td>\n",
       "      <td>runs</td>\n",
       "      <td>33.0</td>\n",
       "      <td>N</td>\n",
       "      <td>NaN</td>\n",
       "      <td>MR Benson</td>\n",
       "      <td>SL Shastri</td>\n",
       "    </tr>\n",
       "    <tr>\n",
       "      <th>2</th>\n",
       "      <td>335984</td>\n",
       "      <td>Delhi</td>\n",
       "      <td>4/19/2008</td>\n",
       "      <td>2008</td>\n",
       "      <td>MF Maharoof</td>\n",
       "      <td>Feroz Shah Kotla</td>\n",
       "      <td>0</td>\n",
       "      <td>Delhi Daredevils</td>\n",
       "      <td>Rajasthan Royals</td>\n",
       "      <td>Rajasthan Royals</td>\n",
       "      <td>bat</td>\n",
       "      <td>Delhi Daredevils</td>\n",
       "      <td>wickets</td>\n",
       "      <td>9.0</td>\n",
       "      <td>N</td>\n",
       "      <td>NaN</td>\n",
       "      <td>Aleem Dar</td>\n",
       "      <td>GA Pratapkumar</td>\n",
       "    </tr>\n",
       "    <tr>\n",
       "      <th>3</th>\n",
       "      <td>335985</td>\n",
       "      <td>Mumbai</td>\n",
       "      <td>4/20/2008</td>\n",
       "      <td>2008</td>\n",
       "      <td>MV Boucher</td>\n",
       "      <td>Wankhede Stadium</td>\n",
       "      <td>0</td>\n",
       "      <td>Mumbai Indians</td>\n",
       "      <td>Royal Challengers Bangalore</td>\n",
       "      <td>Mumbai Indians</td>\n",
       "      <td>bat</td>\n",
       "      <td>Royal Challengers Bangalore</td>\n",
       "      <td>wickets</td>\n",
       "      <td>5.0</td>\n",
       "      <td>N</td>\n",
       "      <td>NaN</td>\n",
       "      <td>SJ Davis</td>\n",
       "      <td>DJ Harper</td>\n",
       "    </tr>\n",
       "    <tr>\n",
       "      <th>4</th>\n",
       "      <td>335986</td>\n",
       "      <td>Kolkata</td>\n",
       "      <td>4/20/2008</td>\n",
       "      <td>2008</td>\n",
       "      <td>DJ Hussey</td>\n",
       "      <td>Eden Gardens</td>\n",
       "      <td>0</td>\n",
       "      <td>Kolkata Knight Riders</td>\n",
       "      <td>Deccan Chargers</td>\n",
       "      <td>Deccan Chargers</td>\n",
       "      <td>bat</td>\n",
       "      <td>Kolkata Knight Riders</td>\n",
       "      <td>wickets</td>\n",
       "      <td>5.0</td>\n",
       "      <td>N</td>\n",
       "      <td>NaN</td>\n",
       "      <td>BF Bowden</td>\n",
       "      <td>K Hariharan</td>\n",
       "    </tr>\n",
       "  </tbody>\n",
       "</table>\n",
       "</div>"
      ],
      "text/plain": [
       "       id        city       date  season player_of_match  \\\n",
       "0  335982   Bangalore  4/18/2008    2008     BB McCullum   \n",
       "1  335983  Chandigarh  4/19/2008    2008      MEK Hussey   \n",
       "2  335984       Delhi  4/19/2008    2008     MF Maharoof   \n",
       "3  335985      Mumbai  4/20/2008    2008      MV Boucher   \n",
       "4  335986     Kolkata  4/20/2008    2008       DJ Hussey   \n",
       "\n",
       "                                        venue  neutral_venue  \\\n",
       "0                       M Chinnaswamy Stadium              0   \n",
       "1  Punjab Cricket Association Stadium, Mohali              0   \n",
       "2                            Feroz Shah Kotla              0   \n",
       "3                            Wankhede Stadium              0   \n",
       "4                                Eden Gardens              0   \n",
       "\n",
       "                         team1                        team2  \\\n",
       "0  Royal Challengers Bangalore        Kolkata Knight Riders   \n",
       "1              Kings XI Punjab          Chennai Super Kings   \n",
       "2             Delhi Daredevils             Rajasthan Royals   \n",
       "3               Mumbai Indians  Royal Challengers Bangalore   \n",
       "4        Kolkata Knight Riders              Deccan Chargers   \n",
       "\n",
       "                   toss_winner toss_decision                       winner  \\\n",
       "0  Royal Challengers Bangalore         field        Kolkata Knight Riders   \n",
       "1          Chennai Super Kings           bat          Chennai Super Kings   \n",
       "2             Rajasthan Royals           bat             Delhi Daredevils   \n",
       "3               Mumbai Indians           bat  Royal Challengers Bangalore   \n",
       "4              Deccan Chargers           bat        Kolkata Knight Riders   \n",
       "\n",
       "    result  result_margin eliminator method    umpire1         umpire2  \n",
       "0     runs          140.0          N    NaN  Asad Rauf     RE Koertzen  \n",
       "1     runs           33.0          N    NaN  MR Benson      SL Shastri  \n",
       "2  wickets            9.0          N    NaN  Aleem Dar  GA Pratapkumar  \n",
       "3  wickets            5.0          N    NaN   SJ Davis       DJ Harper  \n",
       "4  wickets            5.0          N    NaN  BF Bowden     K Hariharan  "
      ]
     },
     "execution_count": 32,
     "metadata": {},
     "output_type": "execute_result"
    }
   ],
   "source": [
    "match_data.head()"
   ]
  },
  {
   "cell_type": "code",
   "execution_count": 33,
   "metadata": {
    "executionInfo": {
     "elapsed": 879,
     "status": "ok",
     "timestamp": 1603764605378,
     "user": {
      "displayName": "Rajeev Ratan",
      "photoUrl": "https://lh3.googleusercontent.com/a-/AOh14GhBYJnwdIGYSJdvGmzIt64rYSF1dDuiFyfRw4Rpeg=s64",
      "userId": "08597265227091462140"
     },
     "user_tz": 240
    },
    "id": "SHYym6_6wNLE"
   },
   "outputs": [],
   "source": [
    "def comparator(team1):\n",
    "    # you can take team2 here also\n",
    "    teams=list(match_data.team1.unique()) \n",
    "\n",
    "    # Remove team1\n",
    "    teams.remove(team1)\n",
    "\n",
    "    #make a list if all oppenents\n",
    "    opponents=teams.copy()\n",
    "\n",
    "    # Collect data from match data where team one played (they can be in either team1 or team2 columns)\n",
    "    mt1=match_data[((match_data['team1']==team1)|(match_data['team2']==team1))]\n",
    "\n",
    "    for t in opponents:\n",
    "        # each time comparing each opponent team and the team we are looking for\n",
    "        mask = (((mt1['team1']==t)|(mt1['team2']==t)))&((mt1['team1']==team1)|(mt1['team2']==team1))\n",
    "        # to_frame to convert to DataFrame and T is used to Transpose\n",
    "        mt2 = mt1.loc[mask, 'winner'].value_counts().to_frame().T\n",
    "        print(mt2)\n"
   ]
  },
  {
   "cell_type": "code",
   "execution_count": 34,
   "metadata": {
    "colab": {
     "base_uri": "https://localhost:8080/",
     "height": 420
    },
    "executionInfo": {
     "elapsed": 759,
     "status": "ok",
     "timestamp": 1603764760463,
     "user": {
      "displayName": "Rajeev Ratan",
      "photoUrl": "https://lh3.googleusercontent.com/a-/AOh14GhBYJnwdIGYSJdvGmzIt64rYSF1dDuiFyfRw4Rpeg=s64",
      "userId": "08597265227091462140"
     },
     "user_tz": 240
    },
    "id": "IMZnMyTawNLG",
    "outputId": "5b4630b3-efa3-4871-cda9-b7f1e60f260b"
   },
   "outputs": [
    {
     "name": "stdout",
     "output_type": "stream",
     "text": [
      "        Mumbai Indians  Royal Challengers Bangalore\n",
      "winner              17                           10\n",
      "        Mumbai Indians  Kings XI Punjab\n",
      "winner              14               12\n",
      "        Mumbai Indians  Delhi Daredevils\n",
      "winner              11                11\n",
      "        Mumbai Indians  Kolkata Knight Riders\n",
      "winner              21                      6\n",
      "        Rajasthan Royals  Mumbai Indians\n",
      "winner                11              11\n",
      "        Mumbai Indians  Deccan Chargers\n",
      "winner               6                4\n",
      "        Mumbai Indians  Chennai Super Kings\n",
      "winner              18                   12\n",
      "        Kochi Tuskers Kerala\n",
      "winner                     1\n",
      "        Mumbai Indians  Pune Warriors\n",
      "winner               5              1\n",
      "        Sunrisers Hyderabad  Mumbai Indians\n",
      "winner                    8               8\n",
      "        Mumbai Indians  Gujarat Lions\n",
      "winner               2              2\n",
      "        Mumbai Indians  Rising Pune Supergiants\n",
      "winner               1                        1\n",
      "        Rising Pune Supergiant  Mumbai Indians\n",
      "winner                       3               1\n",
      "        Mumbai Indians  Delhi Capitals\n",
      "winner               5               1\n"
     ]
    }
   ],
   "source": [
    "comparator('Mumbai Indians')"
   ]
  },
  {
   "cell_type": "code",
   "execution_count": 35,
   "metadata": {
    "colab": {
     "base_uri": "https://localhost:8080/",
     "height": 420
    },
    "executionInfo": {
     "elapsed": 782,
     "status": "ok",
     "timestamp": 1603764764364,
     "user": {
      "displayName": "Rajeev Ratan",
      "photoUrl": "https://lh3.googleusercontent.com/a-/AOh14GhBYJnwdIGYSJdvGmzIt64rYSF1dDuiFyfRw4Rpeg=s64",
      "userId": "08597265227091462140"
     },
     "user_tz": 240
    },
    "id": "fIcplIe7x-Ih",
    "outputId": "ce3c8f08-3188-4c9b-c719-8a984911cabd"
   },
   "outputs": [
    {
     "name": "stdout",
     "output_type": "stream",
     "text": [
      "        Kolkata Knight Riders  Royal Challengers Bangalore\n",
      "winner                     14                           12\n",
      "        Kolkata Knight Riders  Kings XI Punjab\n",
      "winner                     18                9\n",
      "        Kolkata Knight Riders  Delhi Daredevils\n",
      "winner                     13                 8\n",
      "        Mumbai Indians  Kolkata Knight Riders\n",
      "winner              21                      6\n",
      "        Kolkata Knight Riders  Rajasthan Royals\n",
      "winner                     12                10\n",
      "        Kolkata Knight Riders  Deccan Chargers\n",
      "winner                      7                2\n",
      "        Chennai Super Kings  Kolkata Knight Riders\n",
      "winner                   14                      8\n",
      "        Kochi Tuskers Kerala\n",
      "winner                     2\n",
      "        Kolkata Knight Riders  Pune Warriors\n",
      "winner                      4              1\n",
      "        Kolkata Knight Riders  Sunrisers Hyderabad\n",
      "winner                     12                    7\n",
      "        Gujarat Lions  Kolkata Knight Riders\n",
      "winner              3                      1\n",
      "        Kolkata Knight Riders\n",
      "winner                      2\n",
      "        Rising Pune Supergiant  Kolkata Knight Riders\n",
      "winner                       1                      1\n",
      "        Delhi Capitals  Kolkata Knight Riders\n",
      "winner               3                      1\n"
     ]
    }
   ],
   "source": [
    "comparator(\"Kolkata Knight Riders\")"
   ]
  },
  {
   "cell_type": "code",
   "execution_count": null,
   "metadata": {},
   "outputs": [],
   "source": []
  }
 ],
 "metadata": {
  "colab": {
   "collapsed_sections": [],
   "name": "IPL Cricket Data Analytics.ipynb",
   "provenance": []
  },
  "kernelspec": {
   "display_name": "Python 3",
   "language": "python",
   "name": "python3"
  },
  "language_info": {
   "codemirror_mode": {
    "name": "ipython",
    "version": 3
   },
   "file_extension": ".py",
   "mimetype": "text/x-python",
   "name": "python",
   "nbconvert_exporter": "python",
   "pygments_lexer": "ipython3",
   "version": "3.7.6"
  }
 },
 "nbformat": 4,
 "nbformat_minor": 1
}
